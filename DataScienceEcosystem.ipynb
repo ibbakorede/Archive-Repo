{
 "cells": [
  {
   "cell_type": "markdown",
   "id": "612346b1-84b6-41c3-a6a8-0f5e59609086",
   "metadata": {},
   "source": [
    "# Data Science Tools and Ecosystem"
   ]
  },
  {
   "cell_type": "markdown",
   "id": "e9cd23e4-d4fd-46c3-85d7-2b5b893b43d7",
   "metadata": {},
   "source": [
    "# In this notebook, Data Science Tools and Ecosystem are summarized."
   ]
  },
  {
   "cell_type": "markdown",
   "id": "a288ed7e-4d3c-4f29-be37-ddf286f92b85",
   "metadata": {},
   "source": [
    "# **Objectives:**\n",
    "* List popular languages for Data Science\n",
    "* List commonly used libraries in Data Science\n",
    "* Create a table of Data Science tools\n",
    "* Write code to convert minutes to hours\n",
    "* Understand the basics of markdown formatting"
   ]
  },
  {
   "cell_type": "markdown",
   "id": "07520971-9396-4702-9bbe-397ad6b12303",
   "metadata": {},
   "source": [
    "# Some of the popular languages that Data Scientists use are:\n",
    "1. Python\n",
    "2. R\n",
    "3. SQL"
   ]
  },
  {
   "cell_type": "markdown",
   "id": "f0a6eb31-4509-4d05-a480-5c5bf546272d",
   "metadata": {},
   "source": [
    "# Some of the commonly used libraries used by Data Scientists include:\n",
    "1. Panda\n",
    "2. Numpy\n",
    "3. Matplotib\n",
    "4. Ggplot2\n",
    "5. Scipy"
   ]
  },
  {
   "cell_type": "markdown",
   "id": "ce440b26-10f2-4736-b7b6-13a6c0aa1e61",
   "metadata": {},
   "source": [
    "| Data Science Tools |\n",
    "| ------------------ |\n",
    "| Jupyter Notebook   |\n",
    "| R Studio           |\n",
    "| Apache Zeppelin    |"
   ]
  },
  {
   "cell_type": "markdown",
   "id": "7d62b234-abc4-4f1a-b3c0-3e819582df55",
   "metadata": {},
   "source": [
    "### Below are a few examples of evaluating arithmetic expressions in Python\n"
   ]
  },
  {
   "cell_type": "code",
   "execution_count": 2,
   "id": "efe6bc4b-4eeb-437f-b602-07df92578764",
   "metadata": {},
   "outputs": [
    {
     "data": {
      "text/plain": [
       "17"
      ]
     },
     "execution_count": 2,
     "metadata": {},
     "output_type": "execute_result"
    }
   ],
   "source": [
    "# This a simple arithmetic expression to mutiply then add integers\n",
    "(3*4)+5"
   ]
  },
  {
   "cell_type": "code",
   "execution_count": 3,
   "id": "c4d07cc5-6f31-4436-8100-1424ca4f1db0",
   "metadata": {},
   "outputs": [
    {
     "data": {
      "text/plain": [
       "3.3333333333333335"
      ]
     },
     "execution_count": 3,
     "metadata": {},
     "output_type": "execute_result"
    }
   ],
   "source": [
    "# This will convert 200 minutes to hours by diving by 60\n",
    "200/60"
   ]
  },
  {
   "cell_type": "markdown",
   "id": "de9ac3f5-f334-4300-85da-b64c760a24de",
   "metadata": {},
   "source": [
    "## Author\n",
    "Abdullateef Ibrahim"
   ]
  },
  {
   "cell_type": "code",
   "execution_count": null,
   "id": "26cd0bc3-aef7-4fbb-8c72-f52631122ac0",
   "metadata": {},
   "outputs": [],
   "source": []
  }
 ],
 "metadata": {
  "kernelspec": {
   "display_name": "Python 3 (ipykernel)",
   "language": "python",
   "name": "python3"
  },
  "language_info": {
   "codemirror_mode": {
    "name": "ipython",
    "version": 3
   },
   "file_extension": ".py",
   "mimetype": "text/x-python",
   "name": "python",
   "nbconvert_exporter": "python",
   "pygments_lexer": "ipython3",
   "version": "3.12.4"
  }
 },
 "nbformat": 4,
 "nbformat_minor": 5
}
